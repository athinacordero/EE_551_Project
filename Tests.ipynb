{
 "cells": [
  {
   "cell_type": "code",
   "execution_count": 52,
   "metadata": {},
   "outputs": [],
   "source": [
    "import Project_Script_Clean as PCS"
   ]
  },
  {
   "cell_type": "code",
   "execution_count": 53,
   "metadata": {},
   "outputs": [],
   "source": [
    "import pandas as pd\n",
    "import numpy as np\n",
    "my_dict = {'quantitative' : [1,2,3,4], 'categorical': ['apple','banana','grape','mango']}\n",
    "df = pd.DataFrame(my_dict)"
   ]
  },
  {
   "cell_type": "code",
   "execution_count": 54,
   "metadata": {},
   "outputs": [],
   "source": [
    "def find_categorical_test(df):\n",
    "    assert PCS.find_categorical(df) == ['categorical']\n",
    "find_categorical_test(df)\n",
    "# passed"
   ]
  },
  {
   "cell_type": "code",
   "execution_count": 55,
   "metadata": {},
   "outputs": [],
   "source": [
    "# all the values are numerical, just have to change them from uint8 to uint64\n",
    "def replace_cat_test(df):\n",
    "    temp_dict = {'quantitative' : [1,2,3,4], \n",
    "               'apple_categorical': [1,0,0,0],\n",
    "               'banana_categorical': [0,1,0,0],\n",
    "               'grape_categorical': [0,0,1,0],\n",
    "               'mango_categorical': [0,0,0,1]}\n",
    "    df_dummy = pd.DataFrame(temp_dict)\n",
    "    df_dummy = df_dummy.astype(np.uint64)\n",
    "    assert PCS.replace_categorical(df,PCS.find_categorical(df)).astype(np.uint64).equals(df_dummy)\n",
    "\n",
    "replace_cat_test(df)\n",
    "# passed"
   ]
  },
  {
   "cell_type": "code",
   "execution_count": 63,
   "metadata": {},
   "outputs": [],
   "source": [
    "my_dict = {'col_1' : [1,2,3,4], 'col_2' : [1,np.nan,2,6], 'Id': [5,6,7,8]}\n",
    "df_prep = pd.DataFrame(my_dict)\n",
    "\n",
    "def prep_data_test(df):\n",
    "    temp_dict = {'col_1': [1,2,3,4],\n",
    "                'col_2': [1,3,2,6]}\n",
    "    df_prepped = pd.DataFrame(temp_dict).astype(np.uint64)\n",
    "    assert df_prepped.equals(PCS.prep_data(df).astype(np.uint64))\n",
    "    \n",
    "prep_data_test(df_prep)"
   ]
  },
  {
   "cell_type": "code",
   "execution_count": 64,
   "metadata": {},
   "outputs": [],
   "source": [
    "my_dict = {'col_1' : [1,2,3,4], 'col_2' : [1,3,2,6], 'Id': [5,6,7,8]}\n",
    "data1 = pd.DataFrame(my_dict)\n",
    "\n",
    "my_dict2 = {'col_1' : [1,2,3,4], 'col_2' : [1,3,2,6]}\n",
    "data2 = pd.DataFrame(my_dict2)\n",
    "\n",
    "def check_leftover_test(data1,data2):\n",
    "    assert PCS.check_leftover(data1,data2) == ['Id']\n",
    "    \n",
    "check_leftover_test(data1,data2)"
   ]
  },
  {
   "cell_type": "code",
   "execution_count": null,
   "metadata": {},
   "outputs": [],
   "source": []
  }
 ],
 "metadata": {
  "kernelspec": {
   "display_name": "Python 3",
   "language": "python",
   "name": "python3"
  },
  "language_info": {
   "codemirror_mode": {
    "name": "ipython",
    "version": 3
   },
   "file_extension": ".py",
   "mimetype": "text/x-python",
   "name": "python",
   "nbconvert_exporter": "python",
   "pygments_lexer": "ipython3",
   "version": "3.7.3"
  }
 },
 "nbformat": 4,
 "nbformat_minor": 2
}
